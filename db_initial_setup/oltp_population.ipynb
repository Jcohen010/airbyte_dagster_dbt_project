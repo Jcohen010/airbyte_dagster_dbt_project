{
 "cells": [
  {
   "cell_type": "markdown",
   "metadata": {},
   "source": [
    "### Import packages"
   ]
  },
  {
   "cell_type": "code",
   "execution_count": 31,
   "metadata": {},
   "outputs": [],
   "source": [
    "from sqlalchemy import create_engine\n",
    "import pandas as pd\n",
    "from dotenv import load_dotenv\n",
    "import os"
   ]
  },
  {
   "cell_type": "markdown",
   "metadata": {},
   "source": [
    "### Load in .csv files"
   ]
  },
  {
   "cell_type": "code",
   "execution_count": 50,
   "metadata": {},
   "outputs": [],
   "source": [
    "members = pd.read_csv(\"sample_data/thehangerdb sample tables - members.csv\")\n",
    "routes = pd.read_csv(\"sample_data/thehangerdb sample tables - routes.csv\")\n",
    "climbinggrades = pd.read_csv(\"sample_data/thehangerdb sample tables - climbinggrades.csv\")\n",
    "addressstati = pd.read_csv(\"sample_data/thehangerdb sample tables - addressstati.csv\")\n",
    "climbingsessions = pd.read_csv(\"sample_data/thehangerdb sample tables - climbingsessions.csv\")\n",
    "memberaddresses = pd.read_csv(\"sample_data/thehangerdb sample tables - memberaddresses.csv\")\n",
    "memberstatustypes = pd.read_csv(\"sample_data/thehangerdb sample tables - memberstatustypes.csv\")\n",
    "routeclimbs = pd.read_csv(\"sample_data/thehangerdb sample tables - routeclimbs.csv\")\n",
    "routecolors = pd.read_csv(\"sample_data/thehangerdb sample tables - routecolors.csv\")\n",
    "membertypes = pd.read_csv(\"sample_data/thehangerdb sample tables - membertypes.csv\")"
   ]
  },
  {
   "cell_type": "markdown",
   "metadata": {},
   "source": [
    "### Populate database tables"
   ]
  },
  {
   "cell_type": "markdown",
   "metadata": {},
   "source": [
    "#### *Load variables from .env file*"
   ]
  },
  {
   "cell_type": "code",
   "execution_count": 33,
   "metadata": {},
   "outputs": [],
   "source": [
    "load_dotenv()\n",
    "postgres_uri = os.getenv(\"POSTGRES_CONN_URI\")"
   ]
  },
  {
   "cell_type": "markdown",
   "metadata": {},
   "source": [
    "#### *Create conn object*"
   ]
  },
  {
   "cell_type": "code",
   "execution_count": 34,
   "metadata": {},
   "outputs": [],
   "source": [
    "conn = create_engine(postgres_uri)"
   ]
  },
  {
   "cell_type": "markdown",
   "metadata": {},
   "source": [
    "#### *Populate database tables*"
   ]
  },
  {
   "cell_type": "code",
   "execution_count": 51,
   "metadata": {},
   "outputs": [
    {
     "data": {
      "text/plain": [
       "600"
      ]
     },
     "execution_count": 51,
     "metadata": {},
     "output_type": "execute_result"
    }
   ],
   "source": [
    "membertypes.to_sql('membertypes', conn, if_exists='append', index=False)\n",
    "memberstatustypes.to_sql('memberstatustypes', conn, if_exists='append', index=False)\n",
    "members.to_sql('members', conn, if_exists='append', index=False)\n",
    "addressstati.to_sql('addressstati', conn, if_exists='append', index=False)\n",
    "memberaddresses.to_sql('memberaddresses', conn, if_exists='append', index=False)\n",
    "climbingsessions.to_sql('climbingsessions', conn, if_exists='append', index=False)\n",
    "routecolors.to_sql('routecolors', conn, if_exists='append', index=False)\n",
    "climbinggrades.to_sql('climbinggrades', conn, if_exists='append', index=False)\n",
    "routes.to_sql('routes', conn, if_exists='append', index=False)\n",
    "routeclimbs.to_sql('routeclimbs', conn, if_exists='append', index=False)"
   ]
  }
 ],
 "metadata": {
  "kernelspec": {
   "display_name": "venv",
   "language": "python",
   "name": "python3"
  },
  "language_info": {
   "codemirror_mode": {
    "name": "ipython",
    "version": 3
   },
   "file_extension": ".py",
   "mimetype": "text/x-python",
   "name": "python",
   "nbconvert_exporter": "python",
   "pygments_lexer": "ipython3",
   "version": "3.10.4"
  }
 },
 "nbformat": 4,
 "nbformat_minor": 2
}
